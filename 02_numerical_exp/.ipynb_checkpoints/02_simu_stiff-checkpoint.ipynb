{
 "cells": [
  {
   "cell_type": "code",
   "execution_count": 1,
   "metadata": {},
   "outputs": [
    {
     "data": {
      "text/html": [
       "<style>.container { width:100% !important; }</style>"
      ],
      "text/plain": [
       "<IPython.core.display.HTML object>"
      ]
     },
     "metadata": {},
     "output_type": "display_data"
    }
   ],
   "source": [
    "import pyphs as phs\n",
    "import sympy as sy\n",
    "import numpy as np\n",
    "import os\n",
    "\n",
    "import datetime\n",
    "import pickle\n",
    "import sympy as sy\n",
    "import matplotlib.pyplot as plt\n",
    "import h5py\n",
    "sy.init_printing()\n",
    "\n",
    "from IPython.core.display import display, HTML\n",
    "display(HTML(\"<style>.container { width:100% !important; }</style>\"))\n",
    "\n",
    "PPTY_PHY_PARAMS = {\"positive\": True, \"real\" : True }                            \n",
    "PPTY_STATE_VAR  = {\"real\" : True }"
   ]
  },
  {
   "cell_type": "code",
   "execution_count": 2,
   "metadata": {},
   "outputs": [
    {
     "data": {
      "image/png": "[encoded data removed]",
      "text/latex": [
       "$\\displaystyle \\left[\\begin{matrix}\\Pi_{L1}\\\\\\Pi_{R1}\\\\\\Pi_{L2}\\\\\\Pi_{R2}\\\\x_{k1}\\\\x_{k2}\\end{matrix}\\right]$"
      ],
      "text/plain": [
       "⎡Π_L1⎤\n",
       "⎢    ⎥\n",
       "⎢Π_R1⎥\n",
       "⎢    ⎥\n",
       "⎢Π_L2⎥\n",
       "⎢    ⎥\n",
       "⎢Π_R2⎥\n",
       "⎢    ⎥\n",
       "⎢xₖ₁ ⎥\n",
       "⎢    ⎥\n",
       "⎣xₖ₂ ⎦"
      ]
     },
     "execution_count": 2,
     "metadata": {},
     "output_type": "execute_result"
    }
   ],
   "source": [
    "Ns = 2  # Number of subsystems\n",
    "\n",
    "\n",
    "Ne = 3 # N of state per subsys\n",
    "N_lambda = Ns-1 # constraints\n",
    "Nx = Ns * Ne     # total N of states\n",
    "Nx\n",
    "\n",
    "piL_vec  = sy.symbols('Pi_L1:{}'.format(Ns+1), **PPTY_STATE_VAR)\n",
    "piR_vec  = sy.symbols('Pi_R1:{}'.format(Ns+1), **PPTY_STATE_VAR)\n",
    "xk_vec   = sy.symbols('x_k1:{}'.format(Ns+1), **PPTY_STATE_VAR)\n",
    "\n",
    "mL_vec   = sy.symbols('m_L1:{}'.format(Ns+1), **PPTY_PHY_PARAMS)\n",
    "mR_vec   = sy.symbols('m_R1:{}'.format(Ns+1), **PPTY_PHY_PARAMS)\n",
    "k_vec    = sy.symbols('k_1:{}'.format(Ns+1), **PPTY_PHY_PARAMS)\n",
    "\n",
    "params = mL_vec + mR_vec + k_vec\n",
    "\n",
    "X = []\n",
    "for i in range(Ns):\n",
    "    X.append(piL_vec[i])\n",
    "    X.append(piR_vec[i])\n",
    "X += list(xk_vec)\n",
    "X = sy.Matrix(X)\n",
    "X"
   ]
  },
  {
   "cell_type": "code",
   "execution_count": 3,
   "metadata": {},
   "outputs": [
    {
     "data": {
      "image/png": "[encoded data removed]",
      "text/latex": [
       "$\\displaystyle \\Delta_{12}^{2} \\left(\\frac{1}{2 m_{R1}} + \\frac{1}{2 m_{L2}}\\right) + \\Pi_{12}^{2} \\left(\\frac{1}{8 m_{R1}} + \\frac{1}{8 m_{L2}}\\right) + \\Pi_{12} \\left(\\frac{\\Delta_{12}}{2 m_{R1}} - \\frac{\\Delta_{12}}{2 m_{L2}}\\right) + \\frac{\\Pi_{L1}^{2}}{2 m_{L1}} + \\frac{\\Pi_{R2}^{2}}{2 m_{R2}} + \\frac{k_{1} x_{k1}^{2}}{2} + \\frac{k_{2} x_{k2}^{2}}{2}$"
      ],
      "text/plain": [
       "                                                                              \n",
       "   2 ⎛  1        1   ⎞      2 ⎛  1        1   ⎞       ⎛ Δ₁₂      Δ₁₂  ⎞   Π_L1\n",
       "Δ₁₂ ⋅⎜────── + ──────⎟ + Π₁₂ ⋅⎜────── + ──────⎟ + Π₁₂⋅⎜────── - ──────⎟ + ────\n",
       "     ⎝2⋅m_R1   2⋅m_L2⎠        ⎝8⋅m_R1   8⋅m_L2⎠       ⎝2⋅m_R1   2⋅m_L2⎠   2⋅m_\n",
       "\n",
       "2        2          2         2\n",
       "     Π_R2     k₁⋅xₖ₁    k₂⋅xₖ₂ \n",
       "── + ────── + ─────── + ───────\n",
       "L1   2⋅m_R2      2         2   "
      ]
     },
     "execution_count": 3,
     "metadata": {},
     "output_type": "execute_result"
    }
   ],
   "source": [
    "bT = sy.zeros(N_lambda, Nx)\n",
    "for i in range(N_lambda):\n",
    "    bT[i, 1+2*i] = 1 \n",
    "    bT[i, 2+i*2] = -1\n",
    "b = bT.T\n",
    "\n",
    "annul_b = sy.zeros(Nx-N_lambda,Nx)\n",
    "\n",
    "annul_b[0,0] = 1\n",
    "annul_b[Ns::, Ns + N_lambda::] = sy.eye(Ns+1)\n",
    "for i in range(1,N_lambda+1):\n",
    "    annul_b[i, 2*i-1] = 1 \n",
    "    annul_b[i, 2*i] = 1\n",
    "\n",
    "M = sy.zeros(Nx, Nx)\n",
    "M[0:Nx-N_lambda,::] = annul_b\n",
    "M[Nx-N_lambda::, ::] = (bT*b).inv()*bT\n",
    "\n",
    "Z = M*X\n",
    "for i in range(N_lambda):\n",
    "    Z[i+1] = sy.symbols('Pi_{0}{1}'.format(i+1,i+2), **PPTY_STATE_VAR)\n",
    "for i in range(N_lambda):\n",
    "    Z[Nx-N_lambda+i] = sy.symbols('Delta_{}'.format(10*(i+1) + (i+2)))\n",
    "Z.T\n",
    "\n",
    "# We are in a linear configuration for now\n",
    "Q = sy.zeros(Nx)\n",
    "for i in range(Ns):\n",
    "    Q[2*i, 2*i] = 1/mL_vec[i]\n",
    "    Q[2*i+1, 2*i+1] = 1/mR_vec[i]\n",
    "    Q[i + 2*Ns, i + 2*Ns] = k_vec[i]\n",
    "HX = sy.Rational(1,2) * X.T * Q * X\n",
    "HX[0]\n",
    "\n",
    "Minv = M.inv()\n",
    "QZ = Minv.T * Q * Minv\n",
    "QZ\n",
    "\n",
    "HZ = sy.Rational(1,2) * Z.T * QZ * Z\n",
    "HZ = HZ[0].expand().collect(Z)\n",
    "HZ"
   ]
  },
  {
   "cell_type": "code",
   "execution_count": 4,
   "metadata": {},
   "outputs": [
    {
     "data": {
      "text/plain": [
       "'Find'"
      ]
     },
     "metadata": {},
     "output_type": "display_data"
    },
    {
     "data": {
      "image/png": "[encoded data removed]",
      "text/latex": [
       "$\\displaystyle \\left[ \\Delta_{12}\\right]$"
      ],
      "text/plain": [
       "[Δ₁₂]"
      ]
     },
     "metadata": {},
     "output_type": "display_data"
    },
    {
     "data": {
      "text/plain": [
       "'such as: '"
      ]
     },
     "metadata": {},
     "output_type": "display_data"
    },
    {
     "data": {
      "image/png": "[encoded data removed]",
      "text/latex": [
       "$\\displaystyle 0 = 2 \\Delta_{12} \\left(\\frac{1}{2 m_{R1}} + \\frac{1}{2 m_{L2}}\\right) + \\Pi_{12} \\left(\\frac{1}{2 m_{R1}} - \\frac{1}{2 m_{L2}}\\right)$"
      ],
      "text/plain": [
       "          ⎛  1        1   ⎞       ⎛  1        1   ⎞\n",
       "0 = 2⋅Δ₁₂⋅⎜────── + ──────⎟ + Π₁₂⋅⎜────── - ──────⎟\n",
       "          ⎝2⋅m_R1   2⋅m_L2⎠       ⎝2⋅m_R1   2⋅m_L2⎠"
      ]
     },
     "metadata": {},
     "output_type": "display_data"
    }
   ],
   "source": [
    "cstr_states = Z[Nx-N_lambda::]\n",
    "\n",
    "cstr_eq = []\n",
    "display(\"Find\", cstr_states, \"such as: \")\n",
    "for i in range(N_lambda):\n",
    "    cstr_eq.append(sy.Eq(0, HZ.diff(cstr_states[i])))\n",
    "    display(cstr_eq[i])"
   ]
  },
  {
   "cell_type": "markdown",
   "metadata": {},
   "source": [
    "## Interconnexion matrix"
   ]
  },
  {
   "cell_type": "code",
   "execution_count": 5,
   "metadata": {},
   "outputs": [
    {
     "data": {
      "image/png": "[encoded data removed]",
      "text/latex": [
       "$\\displaystyle \\left[\\begin{matrix}0 & 0 & 1\\\\0 & 0 & -1\\\\-1 & 1 & 0\\end{matrix}\\right]$"
      ],
      "text/plain": [
       "⎡0   0  1 ⎤\n",
       "⎢         ⎥\n",
       "⎢0   0  -1⎥\n",
       "⎢         ⎥\n",
       "⎣-1  1  0 ⎦"
      ]
     },
     "execution_count": 5,
     "metadata": {},
     "output_type": "execute_result"
    }
   ],
   "source": [
    "Jxi = sy.Matrix([[0,0,1],[0,0,-1],[-1,1,0]])\n",
    "Jxi"
   ]
  },
  {
   "cell_type": "code",
   "execution_count": 6,
   "metadata": {},
   "outputs": [
    {
     "data": {
      "image/png": "[encoded data removed]",
      "text/latex": [
       "$\\displaystyle \\left[\\begin{matrix}0 & 0 & 1 & 0 & 0 & 0\\\\0 & 0 & -1 & 0 & 0 & 0\\\\-1 & 1 & 0 & 0 & 0 & 0\\\\0 & 0 & 0 & 0 & 0 & 1\\\\0 & 0 & 0 & 0 & 0 & -1\\\\0 & 0 & 0 & -1 & 1 & 0\\end{matrix}\\right]$"
      ],
      "text/plain": [
       "⎡0   0  1   0   0  0 ⎤\n",
       "⎢                    ⎥\n",
       "⎢0   0  -1  0   0  0 ⎥\n",
       "⎢                    ⎥\n",
       "⎢-1  1  0   0   0  0 ⎥\n",
       "⎢                    ⎥\n",
       "⎢0   0  0   0   0  1 ⎥\n",
       "⎢                    ⎥\n",
       "⎢0   0  0   0   0  -1⎥\n",
       "⎢                    ⎥\n",
       "⎣0   0  0   -1  1  0 ⎦"
      ]
     },
     "execution_count": 6,
     "metadata": {},
     "output_type": "execute_result"
    }
   ],
   "source": [
    "Jtot = sy.zeros(Nx)\n",
    "for i in range(Ns):\n",
    "    Jtot[3*i:3*i+Ne, 3*i:3*i+Ne] = Jxi\n",
    "Jtot"
   ]
  },
  {
   "cell_type": "code",
   "execution_count": 7,
   "metadata": {},
   "outputs": [
    {
     "data": {
      "image/png": "[encoded data removed]",
      "text/latex": [
       "$\\displaystyle \\left[\\begin{matrix}1 & 0 & 0 & 0 & 0 & 0\\\\0 & 1 & 0 & 0 & 0 & 0\\\\0 & 0 & 0 & 1 & 0 & 0\\\\0 & 0 & 0 & 0 & 1 & 0\\\\0 & 0 & 1 & 0 & 0 & 0\\\\0 & 0 & 0 & 0 & 0 & 1\\end{matrix}\\right]$"
      ],
      "text/plain": [
       "⎡1  0  0  0  0  0⎤\n",
       "⎢                ⎥\n",
       "⎢0  1  0  0  0  0⎥\n",
       "⎢                ⎥\n",
       "⎢0  0  0  1  0  0⎥\n",
       "⎢                ⎥\n",
       "⎢0  0  0  0  1  0⎥\n",
       "⎢                ⎥\n",
       "⎢0  0  1  0  0  0⎥\n",
       "⎢                ⎥\n",
       "⎣0  0  0  0  0  1⎦"
      ]
     },
     "execution_count": 7,
     "metadata": {},
     "output_type": "execute_result"
    }
   ],
   "source": [
    "# permutation matrix: re-arranging Jxx to match X\n",
    "P = sy.SparseMatrix(sy.zeros(Nx))\n",
    "\n",
    "for i in range(Ns):\n",
    "    # nu_L/ nu_R\n",
    "    P[2*i, Ne*i]         = 1\n",
    "    P[2*i+1, Ne*i+1]     = 1\n",
    "    # Piy\n",
    "    P[2*Ns+i, Ne*i+2] = 1\n",
    "P"
   ]
  },
  {
   "cell_type": "code",
   "execution_count": 8,
   "metadata": {},
   "outputs": [
    {
     "data": {
      "image/png": "[encoded data removed]",
      "text/latex": [
       "$\\displaystyle \\left[\\begin{matrix}0 & 0 & 0 & 1 & 0\\\\0 & 0 & 0 & -1 & 1\\\\0 & 0 & 0 & 0 & -1\\\\-1 & 1 & 0 & 0 & 0\\\\0 & -1 & 1 & 0 & 0\\end{matrix}\\right]$"
      ],
      "text/plain": [
       "⎡0   0   0  1   0 ⎤\n",
       "⎢                 ⎥\n",
       "⎢0   0   0  -1  1 ⎥\n",
       "⎢                 ⎥\n",
       "⎢0   0   0  0   -1⎥\n",
       "⎢                 ⎥\n",
       "⎢-1  1   0  0   0 ⎥\n",
       "⎢                 ⎥\n",
       "⎣0   -1  1  0   0 ⎦"
      ]
     },
     "execution_count": 8,
     "metadata": {},
     "output_type": "execute_result"
    }
   ],
   "source": [
    "Jxx = M*P*Jtot*P.T*M.T\n",
    "Jxx = Jxx[0:Nx-N_lambda, 0:Nx-N_lambda]\n",
    "Jxx"
   ]
  },
  {
   "cell_type": "markdown",
   "metadata": {},
   "source": [
    "## Building RHS"
   ]
  },
  {
   "cell_type": "code",
   "execution_count": 9,
   "metadata": {},
   "outputs": [
    {
     "data": {
      "image/png": "[encoded data removed]",
      "text/latex": [
       "$\\displaystyle \\left[\\begin{matrix}\\Pi_{L1} & \\Pi_{12} & \\Pi_{R2} & x_{k1} & x_{k2}\\end{matrix}\\right]$"
      ],
      "text/plain": [
       "[Π_L1  Π₁₂  Π_R2  xₖ₁  xₖ₂]"
      ]
     },
     "metadata": {},
     "output_type": "display_data"
    },
    {
     "data": {
      "image/png": "[encoded data removed]",
      "text/latex": [
       "$\\displaystyle \\left[\\begin{matrix}\\Delta_{12}\\end{matrix}\\right]$"
      ],
      "text/plain": [
       "[Δ₁₂]"
      ]
     },
     "metadata": {},
     "output_type": "display_data"
    }
   ],
   "source": [
    "Z1 = sy.Matrix(Z[0:Nx-N_lambda])\n",
    "Z2 = sy.Matrix(Z[Nx-N_lambda::])\n",
    "display(Z1.T, Z2.T)"
   ]
  },
  {
   "cell_type": "code",
   "execution_count": 10,
   "metadata": {},
   "outputs": [
    {
     "data": {
      "image/png": "[encoded data removed]",
      "text/latex": [
       "$\\displaystyle \\left[\\begin{matrix}\\Pi_{12} \\left(\\frac{1}{2 m_{R1}} - \\frac{1}{2 m_{L2}}\\right)\\end{matrix}\\right]$"
      ],
      "text/plain": [
       "⎡    ⎛  1        1   ⎞⎤\n",
       "⎢Π₁₂⋅⎜────── - ──────⎟⎥\n",
       "⎣    ⎝2⋅m_R1   2⋅m_L2⎠⎦"
      ]
     },
     "execution_count": 10,
     "metadata": {},
     "output_type": "execute_result"
    }
   ],
   "source": [
    "QZ12 = QZ[(Nx-N_lambda)::, 0:(Nx-N_lambda)]\n",
    "QZ11 = QZ[0:(Nx-N_lambda), 0:(Nx-N_lambda)]\n",
    "RHS = QZ12 * sy.Matrix(Z1)\n",
    "RHS"
   ]
  },
  {
   "cell_type": "code",
   "execution_count": 11,
   "metadata": {},
   "outputs": [
    {
     "data": {
      "image/png": "[encoded data removed]",
      "text/latex": [
       "$\\displaystyle \\left[\\begin{matrix}\\Pi_{12} \\left(\\frac{1}{2 m_{R1}} - \\frac{1}{2 m_{L2}}\\right)\\end{matrix}\\right]$"
      ],
      "text/plain": [
       "⎡    ⎛  1        1   ⎞⎤\n",
       "⎢Π₁₂⋅⎜────── - ──────⎟⎥\n",
       "⎣    ⎝2⋅m_R1   2⋅m_L2⎠⎦"
      ]
     },
     "metadata": {},
     "output_type": "display_data"
    }
   ],
   "source": [
    "QZ12 = QZ[(Nx-N_lambda)::, 0:(Nx-N_lambda)]\n",
    "RHS = QZ12 * Z1\n",
    "display(RHS)"
   ]
  },
  {
   "cell_type": "code",
   "execution_count": 12,
   "metadata": {},
   "outputs": [
    {
     "data": {
      "image/png": "[encoded data removed]",
      "text/latex": [
       "$\\displaystyle \\left[ RHS_{1}\\right]$"
      ],
      "text/plain": [
       "[RHS₁]"
      ]
     },
     "execution_count": 12,
     "metadata": {},
     "output_type": "execute_result"
    }
   ],
   "source": [
    "o_label = []\n",
    "for ind in range(1, N_lambda+1):\n",
    "    str_symb = 'RHS_' + str(ind)        \n",
    "    symb = sy.symbols(str_symb, **PPTY_STATE_VAR)\n",
    "    o_label.append(symb)\n",
    "o_label"
   ]
  },
  {
   "cell_type": "code",
   "execution_count": 13,
   "metadata": {
    "scrolled": true
   },
   "outputs": [
    {
     "data": {
      "image/png": "[encoded data removed]",
      "text/latex": [
       "$\\displaystyle \\left[\\begin{matrix}\\frac{1}{m_{R1}} + \\frac{1}{m_{L2}}\\end{matrix}\\right]$"
      ],
      "text/plain": [
       "⎡ 1      1  ⎤\n",
       "⎢──── + ────⎥\n",
       "⎣m_R1   m_L2⎦"
      ]
     },
     "execution_count": 13,
     "metadata": {},
     "output_type": "execute_result"
    }
   ],
   "source": [
    "QZ22 = QZ[Nx-N_lambda::, Nx-N_lambda::]\n",
    "QZ22"
   ]
  },
  {
   "cell_type": "markdown",
   "metadata": {},
   "source": [
    "## Building Core"
   ]
  },
  {
   "cell_type": "code",
   "execution_count": 14,
   "metadata": {},
   "outputs": [],
   "source": [
    "label = 'FPUT'\n",
    "core = phs.Core(label=label)"
   ]
  },
  {
   "cell_type": "markdown",
   "metadata": {},
   "source": [
    "Storage components"
   ]
  },
  {
   "cell_type": "code",
   "execution_count": 15,
   "metadata": {},
   "outputs": [],
   "source": [
    "core.add_storages(list(Z1), HZ)\n",
    "core.set_Jxx(Jxx)"
   ]
  },
  {
   "cell_type": "markdown",
   "metadata": {},
   "source": [
    "Observers"
   ]
  },
  {
   "cell_type": "code",
   "execution_count": 16,
   "metadata": {},
   "outputs": [
    {
     "data": {
      "image/png": "[encoded data removed]",
      "text/latex": [
       "$\\displaystyle \\left\\{ \\Delta_{12} : RHS_{1}, \\  RHS_{1} : \\Pi_{12} \\left(\\frac{1}{2 m_{R1}} - \\frac{1}{2 m_{L2}}\\right)\\right\\}$"
      ],
      "text/plain": [
       "OrderedDict(⎡⎛          ⎛  1        1   ⎞⎞             ⎤\n",
       "⎢⎜RHS₁, Π₁₂⋅⎜────── - ──────⎟⎟, (Δ₁₂, RHS₁)⎥\n",
       "⎣⎝          ⎝2⋅m_R1   2⋅m_L2⎠⎠             ⎦)"
      ]
     },
     "metadata": {},
     "output_type": "display_data"
    }
   ],
   "source": [
    "observers_dict = {}\n",
    "for i in range(N_lambda):\n",
    "    observers_dict[o_label[i]] = RHS[i]\n",
    "    \n",
    "for i in range(N_lambda):\n",
    "    observers_dict[Z2[i]] = o_label[i]\n",
    "    \n",
    "core.add_observer(observers_dict)\n",
    "\n",
    "display(core.observers)"
   ]
  },
  {
   "cell_type": "markdown",
   "metadata": {},
   "source": [
    "Subs"
   ]
  },
  {
   "cell_type": "code",
   "execution_count": 17,
   "metadata": {},
   "outputs": [
    {
     "data": {
      "image/png": "[encoded data removed]",
      "text/latex": [
       "$\\displaystyle \\left\\{ k_{1} : 1, \\  k_{2} : 10000, \\  m_{L1} : 1, \\  m_{L2} : 1000, \\  m_{R1} : 1, \\  m_{R2} : 1000\\right\\}$"
      ],
      "text/plain": [
       "{k₁: 1, k₂: 10000, m_L1: 1, m_L2: 1000, m_R1: 1, m_R2: 1000}"
      ]
     },
     "metadata": {},
     "output_type": "display_data"
    }
   ],
   "source": [
    "subs = {}\n",
    "for symb in params:\n",
    "    subs[symb] = 1\n",
    "\n",
    "subs[mR_vec[0]] = 1\n",
    "subs[mR_vec[1]] = 1000\n",
    "#subs[mR_vec[2]] = 1\n",
    "#subs[mR_vec[3]] = 100\n",
    "\n",
    "subs[mL_vec[0]] = 1\n",
    "subs[mL_vec[1]] = 1000\n",
    "#subs[mL_vec[2]] = 1\n",
    "#subs[mL_vec[3]] = 100\n",
    "\n",
    "subs[k_vec[0]]  = 1\n",
    "subs[k_vec[1]]  = 10000\n",
    "#subs[k_vec[2]]  = 100\n",
    "#subs[k_vec[2]]  = 10000\n",
    "\n",
    "display(subs)\n",
    "\n",
    "core.subs.update(subs)"
   ]
  },
  {
   "cell_type": "code",
   "execution_count": null,
   "metadata": {},
   "outputs": [],
   "source": []
  },
  {
   "cell_type": "code",
   "execution_count": 18,
   "metadata": {},
   "outputs": [
    {
     "data": {
      "image/png": "[encoded data removed]",
      "text/latex": [
       "$\\displaystyle \\Pi_{L1}$"
      ],
      "text/plain": [
       "Π_L1"
      ]
     },
     "metadata": {},
     "output_type": "display_data"
    }
   ],
   "source": [
    "inits = {'x' : [1.0 for i in range(len(core.x))]}\n",
    "ind = 2*Ns - N_lambda + 1\n",
    "ind = 0\n",
    "display(core.x[ind])\n",
    "inits['x'][ind] = 0.1"
   ]
  },
  {
   "cell_type": "code",
   "execution_count": 19,
   "metadata": {},
   "outputs": [
    {
     "data": {
      "image/png": "[encoded data removed]",
      "text/latex": [
       "$\\displaystyle \\left[\\begin{matrix}0 & 0 & 0 & 1.0 & 0\\\\0 & 0 & 0 & -1.0 & 1.0\\\\0 & 0 & 0 & 0 & -1.0\\\\-1.0 & 1.0 & 0 & 0 & 0\\\\0 & -1.0 & 1.0 & 0 & 0\\end{matrix}\\right]$"
      ],
      "text/plain": [
       "⎡ 0     0     0   1.0    0  ⎤\n",
       "⎢                           ⎥\n",
       "⎢ 0     0     0   -1.0  1.0 ⎥\n",
       "⎢                           ⎥\n",
       "⎢ 0     0     0    0    -1.0⎥\n",
       "⎢                           ⎥\n",
       "⎢-1.0  1.0    0    0     0  ⎥\n",
       "⎢                           ⎥\n",
       "⎣ 0    -1.0  1.0   0     0  ⎦"
      ]
     },
     "execution_count": 19,
     "metadata": {},
     "output_type": "execute_result"
    }
   ],
   "source": [
    "core.Jxx()"
   ]
  },
  {
   "cell_type": "code",
   "execution_count": 20,
   "metadata": {},
   "outputs": [
    {
     "name": "stdout",
     "output_type": "stream",
     "text": [
      "Build method FPUT...\n",
      "    Init Method...\n",
      "    Build numerical structure...\n",
      "    Init update actions...\n",
      "    Init arguments...\n",
      "        Build x\n",
      "        Build dx\n",
      "        Build w\n",
      "        Build u\n",
      "        Build p\n",
      "        Build vnl\n",
      "        Build o\n",
      "    Init functions...\n",
      "        Build ud_o\n",
      "        Build z\n",
      "        Build dxH\n",
      "        Build Gnl\n",
      "        Build jacGnlnl\n",
      "        Build y\n",
      "Prepare method FPUT for C++ generation...\n",
      "    Init value for x\n",
      "[0.100000000000000, 1.00000000000000, 1.00000000000000, 1.00000000000000, 1.00000000000000]\n",
      "    Init value for dx\n",
      "[0, 0, 0, 0, 0]\n",
      "    Init value for ud_x\n",
      "    Init value for o\n",
      "[0, 0]\n",
      "    Init value for ud_o\n",
      "[0.499500000000000, 0]\n",
      "    Init value for Gnl\n",
      "[-1.00000000000000, -9999.00000000000, 10000.0000000000, -0.150250000000000, 0.249250000000000]\n",
      "    Init value for Fnl\n",
      "    Init value for res_Fnl\n",
      "    Init value for save_Fnl\n",
      "    Init value for jacGnlnl\n",
      "    Init value for jacFnl\n",
      "    Init value for ijacFnl\n",
      "    Init value for vnl\n",
      "[0, 0, 0, 0, 0]\n",
      "    Init value for ud_vnl\n",
      "    Init value for step_Fnl\n",
      "    Init value for dxH\n",
      "[0.100000000000000, 0.250250000000000, 0.00100000000000000, 1.00000000000000, 10000.0000000000]\n",
      "    Init value for z\n",
      "[]\n",
      "    Init value for y\n",
      "    Init value for w\n",
      "[]\n",
      "    Init value for u\n",
      "[]\n",
      "    Init value for p\n",
      "[]\n",
      "Generate core C++ object FPUT...\n",
      "    Build parameters...\n",
      "    Build update...\n",
      "    Build arguments...\n",
      "    Build functions...\n",
      "    Definitions...\n",
      "    Accessors (matrix)...\n",
      "    Accessors (vector)...\n",
      "    Accessors (element)...\n",
      "    Update...\n",
      "        Build x...\n",
      "        Build dx...\n",
      "        Build ud_x...\n",
      "        Build o...\n",
      "        Build ud_o...\n",
      "        Build Gnl...\n",
      "        Build Fnl...\n",
      "        Build res_Fnl...\n",
      "        Build save_Fnl...\n",
      "        Build jacGnlnl...\n",
      "        Build jacFnl...\n",
      "        Build ijacFnl...\n",
      "        Build vnl...\n",
      "        Build ud_vnl...\n",
      "        Build step_Fnl...\n",
      "        Build dxH...\n",
      "        Build z...\n",
      "        Build y...\n",
      "        Build w...\n",
      "        Build u...\n",
      "        Build p...\n",
      "    Data...\n",
      "    Initialisation...\n",
      "    Build operations...\n",
      "    Build initialisation...\n",
      "    Build constructors...\n",
      "    Build destructor...\n",
      "    Write /home/victorw/ownCloud/IRCAM/03_DOCS/38_FPUT_problem_DAE/02_python/02_numerical_exp/03_data/fput/src/core.cpp...\n",
      "    Write /home/victorw/ownCloud/IRCAM/03_DOCS/38_FPUT_problem_DAE/02_python/02_numerical_exp/03_data/fput/src/core.h...\n",
      "    Write /home/victorw/ownCloud/IRCAM/03_DOCS/38_FPUT_problem_DAE/02_python/02_numerical_exp/03_data/fput/src/parameters.cpp\n",
      "    Write /home/victorw/ownCloud/IRCAM/03_DOCS/38_FPUT_problem_DAE/02_python/02_numerical_exp/03_data/fput/src/parameters.h\n",
      "Build data i/o...\n"
     ]
    }
   ],
   "source": [
    "config = {'fs'   : 1e3, # sample rate (Hz)\n",
    "          'path' : os.path.join(os.getcwd(), '03_data'), # folder for output results/build\n",
    "          'lang' : 'c++',\n",
    "          'cmake': r'cmake',\n",
    "          'grad' : 'discret',\n",
    "          'maxit': 10,\n",
    "          'pbar' : False,\n",
    "          'split': False,\n",
    "          'timer': True,\n",
    "          'epsdg': np.power(np.finfo(np.float64).eps, 0.5),\n",
    "          'eps'  : np.finfo(np.float64).eps,\n",
    "         }\n",
    "\n",
    "simu = core.to_simulation(\n",
    "                          config, \n",
    "                          erase = True,\n",
    "                          inits = inits\n",
    "                          )"
   ]
  },
  {
   "cell_type": "code",
   "execution_count": 21,
   "metadata": {},
   "outputs": [],
   "source": [
    "import modify_core_solver as modifs\n",
    "from importlib import reload  \n",
    "reload(modifs)\n",
    "folder_path_in = os.path.join(config['path'],label.lower(), 'src')\n",
    "modifs.insert_solver(folder_path_in, Ns)"
   ]
  },
  {
   "cell_type": "code",
   "execution_count": null,
   "metadata": {},
   "outputs": [],
   "source": []
  },
  {
   "cell_type": "code",
   "execution_count": 22,
   "metadata": {},
   "outputs": [
    {
     "name": "stdout",
     "output_type": "stream",
     "text": [
      "Build de la simulation à 2020-07-10 16:16:35.428196\n",
      "Simulation démarée à 2020-07-10 16:16:35.441666\n",
      "Simulation: Process...\n",
      "-- The CXX compiler identification is GNU 10.1.0\n",
      "\n",
      "-- Check for working CXX compiler: /usr/bin/c++\n",
      "\n",
      "-- Check for working CXX compiler: /usr/bin/c++ - works\n",
      "\n",
      "-- Detecting CXX compiler ABI info\n",
      "\n",
      "-- Detecting CXX compiler ABI info - done\n",
      "\n",
      "-- Detecting CXX compile features\n",
      "\n",
      "-- Detecting CXX compile features - done\n",
      "\n",
      "-- HDF5: Using hdf5 compiler wrapper to determine CXX configuration\n",
      "\n",
      "-- Found HDF5: /usr/lib/libhdf5_cpp.so;/usr/lib/libhdf5.so;/usr/lib/libsz.so;/usr/lib/libz.so;/usr/lib/libdl.so;/usr/lib/libm.so (found version \"1.12.0\") found components: HL CXX \n",
      "\n",
      "-- Configuring done\n",
      "\n",
      "-- Generating done\n",
      "\n",
      "-- Build files have been written to: /home/victorw/ownCloud/IRCAM/03_DOCS/38_FPUT_problem_DAE/02_python/02_numerical_exp/03_data/fput/build\n",
      "\n",
      "Scanning dependencies of target FPUT\n",
      "\n",
      "[ 25%] Building CXX object CMakeFiles/FPUT.dir/src/simu.cpp.o\n",
      "\n",
      "[ 50%] Building CXX object CMakeFiles/FPUT.dir/src/core.cpp.o\n",
      "\n",
      "[ 75%] Building CXX object CMakeFiles/FPUT.dir/src/parameters.cpp.o\n",
      "\n",
      "[100%] Linking CXX executable ../bin/FPUT\n",
      "\n",
      "[100%] Built target FPUT\n",
      "\n",
      "./bin/FPUT\n",
      "\n",
      "\n",
      "=======================================\n",
      "\n",
      "\n",
      "\n",
      "Start simulation of fput...\n",
      "\n",
      "\n",
      "\n",
      "\n",
      "\n",
      "Results written in\n",
      "\n",
      "/home/victorw/ownCloud/IRCAM/03_DOCS/38_FPUT_problem_DAE/02_python/02_numerical_exp/03_data/data/results.h5\n",
      "\n",
      "\n",
      "\n",
      "\n",
      "\n",
      "Total time: 8.8855140209198s\n",
      "Total time w.r.t number of time-steps: 0.0088855140209198s\n",
      "\n",
      "Simulation: Done\n",
      "Simulation finie à 2020-07-10 16:16:44.327817\n"
     ]
    }
   ],
   "source": [
    "tmax = 1.\n",
    "Nit = int(tmax*config['fs'])\n",
    "t_vec = np.linspace(0, tmax, int(Nit))\n",
    "\n",
    "\n",
    "print('Build de la simulation à {0}'.format(datetime.datetime.now()))\n",
    "simu.init(\n",
    "        nt    = Nit,\n",
    "        )\n",
    "print('Simulation démarée à {0}'.format(datetime.datetime.now()))\n",
    "simu.process()\n",
    "print('Simulation finie à {0}'.format(datetime.datetime.now()))"
   ]
  },
  {
   "cell_type": "code",
   "execution_count": 23,
   "metadata": {},
   "outputs": [
    {
     "ename": "OSError",
     "evalue": "Unable to create file (unable to open file: name = '03_data/simu.07_10.16_16.h5', errno = 17, error message = 'File exists', flags = 15, o_flags = c2)",
     "output_type": "error",
     "traceback": [
      "\u001b[0;31m---------------------------------------------------------------------------\u001b[0m",
      "\u001b[0;31mOSError\u001b[0m                                   Traceback (most recent call last)",
      "\u001b[0;32m<ipython-input-23-627cf81c0eff>\u001b[0m in \u001b[0;36m<module>\u001b[0;34m\u001b[0m\n\u001b[1;32m      8\u001b[0m \u001b[0;34m\u001b[0m\u001b[0m\n\u001b[1;32m      9\u001b[0m \u001b[0mfilename\u001b[0m \u001b[0;34m=\u001b[0m \u001b[0;34m'03_data/simu.{0}_{1}.{2}_{3}.h5'\u001b[0m\u001b[0;34m.\u001b[0m\u001b[0mformat\u001b[0m\u001b[0;34m(\u001b[0m\u001b[0;34m*\u001b[0m\u001b[0mdate_now\u001b[0m\u001b[0;34m)\u001b[0m\u001b[0;34m\u001b[0m\u001b[0;34m\u001b[0m\u001b[0m\n\u001b[0;32m---> 10\u001b[0;31m \u001b[0mfid\u001b[0m      \u001b[0;34m=\u001b[0m \u001b[0mh5py\u001b[0m\u001b[0;34m.\u001b[0m\u001b[0mFile\u001b[0m\u001b[0;34m(\u001b[0m\u001b[0mfilename\u001b[0m\u001b[0;34m,\u001b[0m \u001b[0;34m'x'\u001b[0m\u001b[0;34m)\u001b[0m\u001b[0;34m\u001b[0m\u001b[0;34m\u001b[0m\u001b[0m\n\u001b[0m\u001b[1;32m     11\u001b[0m \u001b[0mdt\u001b[0m       \u001b[0;34m=\u001b[0m \u001b[0mh5py\u001b[0m\u001b[0;34m.\u001b[0m\u001b[0mstring_dtype\u001b[0m\u001b[0;34m(\u001b[0m\u001b[0;34m)\u001b[0m\u001b[0;34m\u001b[0m\u001b[0;34m\u001b[0m\u001b[0m\n\u001b[1;32m     12\u001b[0m \u001b[0;34m\u001b[0m\u001b[0m\n",
      "\u001b[0;32m~/.virtualenvs/pyphs/lib/python3.8/site-packages/h5py/_hl/files.py\u001b[0m in \u001b[0;36m__init__\u001b[0;34m(self, name, mode, driver, libver, userblock_size, swmr, rdcc_nslots, rdcc_nbytes, rdcc_w0, track_order, **kwds)\u001b[0m\n\u001b[1;32m    404\u001b[0m             \u001b[0;32mwith\u001b[0m \u001b[0mphil\u001b[0m\u001b[0;34m:\u001b[0m\u001b[0;34m\u001b[0m\u001b[0;34m\u001b[0m\u001b[0m\n\u001b[1;32m    405\u001b[0m                 \u001b[0mfapl\u001b[0m \u001b[0;34m=\u001b[0m \u001b[0mmake_fapl\u001b[0m\u001b[0;34m(\u001b[0m\u001b[0mdriver\u001b[0m\u001b[0;34m,\u001b[0m \u001b[0mlibver\u001b[0m\u001b[0;34m,\u001b[0m \u001b[0mrdcc_nslots\u001b[0m\u001b[0;34m,\u001b[0m \u001b[0mrdcc_nbytes\u001b[0m\u001b[0;34m,\u001b[0m \u001b[0mrdcc_w0\u001b[0m\u001b[0;34m,\u001b[0m \u001b[0;34m**\u001b[0m\u001b[0mkwds\u001b[0m\u001b[0;34m)\u001b[0m\u001b[0;34m\u001b[0m\u001b[0;34m\u001b[0m\u001b[0m\n\u001b[0;32m--> 406\u001b[0;31m                 fid = make_fid(name, mode, userblock_size,\n\u001b[0m\u001b[1;32m    407\u001b[0m                                \u001b[0mfapl\u001b[0m\u001b[0;34m,\u001b[0m \u001b[0mfcpl\u001b[0m\u001b[0;34m=\u001b[0m\u001b[0mmake_fcpl\u001b[0m\u001b[0;34m(\u001b[0m\u001b[0mtrack_order\u001b[0m\u001b[0;34m=\u001b[0m\u001b[0mtrack_order\u001b[0m\u001b[0;34m)\u001b[0m\u001b[0;34m,\u001b[0m\u001b[0;34m\u001b[0m\u001b[0;34m\u001b[0m\u001b[0m\n\u001b[1;32m    408\u001b[0m                                swmr=swmr)\n",
      "\u001b[0;32m~/.virtualenvs/pyphs/lib/python3.8/site-packages/h5py/_hl/files.py\u001b[0m in \u001b[0;36mmake_fid\u001b[0;34m(name, mode, userblock_size, fapl, fcpl, swmr)\u001b[0m\n\u001b[1;32m    175\u001b[0m         \u001b[0mfid\u001b[0m \u001b[0;34m=\u001b[0m \u001b[0mh5f\u001b[0m\u001b[0;34m.\u001b[0m\u001b[0mopen\u001b[0m\u001b[0;34m(\u001b[0m\u001b[0mname\u001b[0m\u001b[0;34m,\u001b[0m \u001b[0mh5f\u001b[0m\u001b[0;34m.\u001b[0m\u001b[0mACC_RDWR\u001b[0m\u001b[0;34m,\u001b[0m \u001b[0mfapl\u001b[0m\u001b[0;34m=\u001b[0m\u001b[0mfapl\u001b[0m\u001b[0;34m)\u001b[0m\u001b[0;34m\u001b[0m\u001b[0;34m\u001b[0m\u001b[0m\n\u001b[1;32m    176\u001b[0m     \u001b[0;32melif\u001b[0m \u001b[0mmode\u001b[0m \u001b[0;32min\u001b[0m \u001b[0;34m[\u001b[0m\u001b[0;34m'w-'\u001b[0m\u001b[0;34m,\u001b[0m \u001b[0;34m'x'\u001b[0m\u001b[0;34m]\u001b[0m\u001b[0;34m:\u001b[0m\u001b[0;34m\u001b[0m\u001b[0;34m\u001b[0m\u001b[0m\n\u001b[0;32m--> 177\u001b[0;31m         \u001b[0mfid\u001b[0m \u001b[0;34m=\u001b[0m \u001b[0mh5f\u001b[0m\u001b[0;34m.\u001b[0m\u001b[0mcreate\u001b[0m\u001b[0;34m(\u001b[0m\u001b[0mname\u001b[0m\u001b[0;34m,\u001b[0m \u001b[0mh5f\u001b[0m\u001b[0;34m.\u001b[0m\u001b[0mACC_EXCL\u001b[0m\u001b[0;34m,\u001b[0m \u001b[0mfapl\u001b[0m\u001b[0;34m=\u001b[0m\u001b[0mfapl\u001b[0m\u001b[0;34m,\u001b[0m \u001b[0mfcpl\u001b[0m\u001b[0;34m=\u001b[0m\u001b[0mfcpl\u001b[0m\u001b[0;34m)\u001b[0m\u001b[0;34m\u001b[0m\u001b[0;34m\u001b[0m\u001b[0m\n\u001b[0m\u001b[1;32m    178\u001b[0m     \u001b[0;32melif\u001b[0m \u001b[0mmode\u001b[0m \u001b[0;34m==\u001b[0m \u001b[0;34m'w'\u001b[0m\u001b[0;34m:\u001b[0m\u001b[0;34m\u001b[0m\u001b[0;34m\u001b[0m\u001b[0m\n\u001b[1;32m    179\u001b[0m         \u001b[0mfid\u001b[0m \u001b[0;34m=\u001b[0m \u001b[0mh5f\u001b[0m\u001b[0;34m.\u001b[0m\u001b[0mcreate\u001b[0m\u001b[0;34m(\u001b[0m\u001b[0mname\u001b[0m\u001b[0;34m,\u001b[0m \u001b[0mh5f\u001b[0m\u001b[0;34m.\u001b[0m\u001b[0mACC_TRUNC\u001b[0m\u001b[0;34m,\u001b[0m \u001b[0mfapl\u001b[0m\u001b[0;34m=\u001b[0m\u001b[0mfapl\u001b[0m\u001b[0;34m,\u001b[0m \u001b[0mfcpl\u001b[0m\u001b[0;34m=\u001b[0m\u001b[0mfcpl\u001b[0m\u001b[0;34m)\u001b[0m\u001b[0;34m\u001b[0m\u001b[0;34m\u001b[0m\u001b[0m\n",
      "\u001b[0;32mh5py/_objects.pyx\u001b[0m in \u001b[0;36mh5py._objects.with_phil.wrapper\u001b[0;34m()\u001b[0m\n",
      "\u001b[0;32mh5py/_objects.pyx\u001b[0m in \u001b[0;36mh5py._objects.with_phil.wrapper\u001b[0;34m()\u001b[0m\n",
      "\u001b[0;32mh5py/h5f.pyx\u001b[0m in \u001b[0;36mh5py.h5f.create\u001b[0;34m()\u001b[0m\n",
      "\u001b[0;31mOSError\u001b[0m: Unable to create file (unable to open file: name = '03_data/simu.07_10.16_16.h5', errno = 17, error message = 'File exists', flags = 15, o_flags = c2)"
     ]
    }
   ],
   "source": [
    "# Date, heure etc...\n",
    "timedate_now = datetime.datetime.now()\n",
    "month  = timedate_now.month\n",
    "day    = timedate_now.day\n",
    "hour   = timedate_now.hour\n",
    "minute = timedate_now.minute\n",
    "date_now = [str(month).zfill(2), str(day).zfill(2), str(hour).zfill(2), str(minute).zfill(2)]\n",
    "\n",
    "filename = '03_data/simu.{0}_{1}.{2}_{3}.h5'.format(*date_now)\n",
    "fid      = h5py.File(filename, 'x')\n",
    "dt       = h5py.string_dtype()\n",
    "\n",
    "# Creating groups\n",
    "data_simu     = fid.create_group('data_simu')\n",
    "metadata      = fid.create_group('metadata')\n",
    "model         = fid.create_group('model')\n",
    "fid.flush()\n",
    "\n",
    "# Saving signals\n",
    "data = np.array( list(simu.data.x())     , dtype=np.float64).squeeze()\n",
    "data_simu.create_dataset(\"x\", data=data)\n",
    "\n",
    "data = np.array( list(simu.data.dx())    , dtype=np.float64).squeeze()\n",
    "data_simu.create_dataset(\"dx\", data=data)\n",
    "\n",
    "data = np.array( list(simu.data.dxH())   , dtype=np.float64).squeeze()\n",
    "data_simu.create_dataset(\"dxH\", data=data)\n",
    "\n",
    "data = np.array( list(simu.data.dtx())   , dtype=np.float64).squeeze()\n",
    "data_simu.create_dataset(\"dtx\", data=data)\n",
    "\n",
    "\n",
    "# time vector\n",
    "data = t_vec\n",
    "data_simu.create_dataset(\"t\", data=data)\n",
    "\n",
    "data\n",
    "\n",
    "data = inits['x']\n",
    "data_simu.create_dataset(\"init_X\", data=data)\n",
    "\n",
    "\n",
    "subs = subs\n",
    "place = model.create_group(\"subs\")\n",
    "\n",
    "for key, val in subs.items():\n",
    "    place.create_dataset(name=str(key), data=val)\n",
    "    \n",
    "# labels\n",
    "str_x_label = []\n",
    "str_o_label = []\n",
    "\n",
    "\n",
    "Nx = len(core.x)\n",
    "model.create_dataset(\"Nx\", (1,), data=Nx)\n",
    "\n",
    "\n",
    "for label in core.x:\n",
    "    str_x_label.append(str(label).encode('ascii'))\n",
    "for label in core.o():\n",
    "    str_o_label.append(str(label))\n",
    "\n",
    "data = np.array(str_x_label, dtype='S')\n",
    "model.create_dataset(\"x_label\", shape=data.shape, data=data, dtype=dt)\n",
    "\n",
    "data = np.array(str_o_label, dtype='S')\n",
    "model.create_dataset(\"o_label\", shape=data.shape, data=data, dtype=dt)\n",
    "\n",
    "### Config de la simu\n",
    "subs = config\n",
    "metadata.create_dataset(\"config\",(1,),data=str(subs), dtype=dt)\n",
    "\n",
    "data = phs.__version__\n",
    "metadata.create_dataset(\"pyphs_version\",(1,),data=str(data), dtype=dt)\n",
    "\n",
    "data = Nit\n",
    "metadata.create_dataset(\"Nit\", data=data)\n",
    "\n",
    "\n",
    "\n",
    "data = date_now\n",
    "for i, el in enumerate(data):\n",
    "    data[i] = int(el)\n",
    "metadata.create_dataset(\"date_now\", data=data)\n",
    "\n",
    "del data\n",
    "fid.flush()\n",
    "fid.close()\n",
    "%store filename"
   ]
  }
 ],
 "metadata": {
  "kernelspec": {
   "display_name": "Python 3",
   "language": "python",
   "name": "python3"
  },
  "language_info": {
   "codemirror_mode": {
    "name": "ipython",
    "version": 3
   },
   "file_extension": ".py",
   "mimetype": "text/x-python",
   "name": "python",
   "nbconvert_exporter": "python",
   "pygments_lexer": "ipython3",
   "version": "3.8.3"
  }
 },
 "nbformat": 4,
 "nbformat_minor": 4
}
