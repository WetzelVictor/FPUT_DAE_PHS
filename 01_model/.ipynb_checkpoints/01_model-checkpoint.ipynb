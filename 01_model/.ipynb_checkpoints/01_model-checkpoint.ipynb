{
 "cells": [
  {
   "cell_type": "code",
   "execution_count": 11,
   "metadata": {},
   "outputs": [
    {
     "data": {
      "text/html": [
       "<style>.container { width:100% !important; }</style>"
      ],
      "text/plain": [
       "<IPython.core.display.HTML object>"
      ]
     },
     "metadata": {},
     "output_type": "display_data"
    }
   ],
   "source": [
    "import sympy as sy\n",
    "import numpy as np\n",
    "from IPython.display import display\n",
    "PPTY_PHY_PARAMS = {\"positive\": True, \"real\" : True }\n",
    "PPTY_STATE_VAR  = {\"real\" : True }\n",
    "sy.init_printing()\n",
    "\n",
    "from IPython.core.display import display, HTML\n",
    "display(HTML(\"<style>.container { width:100% !important; }</style>\"))"
   ]
  },
  {
   "cell_type": "code",
   "execution_count": 5,
   "metadata": {},
   "outputs": [
    {
     "data": {
      "text/plain": [
       "6"
      ]
     },
     "execution_count": 5,
     "metadata": {},
     "output_type": "execute_result"
    }
   ],
   "source": [
    "Ns = 2  # Number of subsystems\n",
    "Ne = 3 # N of state per subsys\n",
    "N_lambda = Ns-1 # constraints\n",
    "Nx = Ns * Ne     # total N of states\n",
    "Nx"
   ]
  },
  {
   "cell_type": "code",
   "execution_count": 6,
   "metadata": {},
   "outputs": [],
   "source": [
    "piL_vec  = sy.symbols('Pi_L1:{}'.format(Ns+1), **PPTY_STATE_VAR)\n",
    "piR_vec  = sy.symbols('Pi_R1:{}'.format(Ns+1), **PPTY_STATE_VAR)\n",
    "xk_vec   = sy.symbols('x_k1:{}'.format(Ns+1), **PPTY_STATE_VAR)\n",
    "\n",
    "mL_vec   = sy.symbols('m_L1:{}'.format(Ns+1), **PPTY_PHY_PARAMS)\n",
    "mR_vec   = sy.symbols('m_R1:{}'.format(Ns+1), **PPTY_PHY_PARAMS)\n",
    "k_vec    = sy.symbols('k_1:{}'.format(Ns+1), **PPTY_PHY_PARAMS)"
   ]
  },
  {
   "cell_type": "markdown",
   "metadata": {},
   "source": [
    "State Vector"
   ]
  },
  {
   "cell_type": "code",
   "execution_count": 16,
   "metadata": {},
   "outputs": [
    {
     "data": {
      "image/png": "[encoded data removed]",
      "text/latex": [
       "$\\displaystyle \\left[\\begin{matrix}\\Pi_{L1}\\\\\\Pi_{R1}\\\\\\Pi_{L2}\\\\\\Pi_{R2}\\\\x_{k1}\\\\x_{k2}\\end{matrix}\\right]$"
      ],
      "text/plain": [
       "⎡Π_L1⎤\n",
       "⎢    ⎥\n",
       "⎢Π_R1⎥\n",
       "⎢    ⎥\n",
       "⎢Π_L2⎥\n",
       "⎢    ⎥\n",
       "⎢Π_R2⎥\n",
       "⎢    ⎥\n",
       "⎢xₖ₁ ⎥\n",
       "⎢    ⎥\n",
       "⎣xₖ₂ ⎦"
      ]
     },
     "execution_count": 16,
     "metadata": {},
     "output_type": "execute_result"
    }
   ],
   "source": [
    "X = []\n",
    "for i in range(Ns):\n",
    "    X.append(piL_vec[i])\n",
    "    X.append(piR_vec[i])\n",
    "X += list(xk_vec)\n",
    "X = sy.Matrix(X)\n",
    "X"
   ]
  },
  {
   "cell_type": "markdown",
   "metadata": {},
   "source": [
    "## Constraints"
   ]
  },
  {
   "cell_type": "code",
   "execution_count": 17,
   "metadata": {},
   "outputs": [
    {
     "data": {
      "image/png": "[encoded data removed]",
      "text/latex": [
       "$\\displaystyle \\left[\\begin{matrix}0 & 1 & -1 & 0 & 0 & 0\\end{matrix}\\right]$"
      ],
      "text/plain": [
       "[0  1  -1  0  0  0]"
      ]
     },
     "metadata": {},
     "output_type": "display_data"
    },
    {
     "name": "stdout",
     "output_type": "stream",
     "text": [
      "---------\n",
      "Contraintes\n"
     ]
    },
    {
     "data": {
      "image/png": "[encoded data removed]",
      "text/latex": [
       "$\\displaystyle \\left[\\begin{matrix}- \\Pi_{L2} + \\Pi_{R1}\\end{matrix}\\right]$"
      ],
      "text/plain": [
       "[-Π_L2 + Π_R1]"
      ]
     },
     "metadata": {},
     "output_type": "display_data"
    }
   ],
   "source": [
    "bT = sy.zeros(N_lambda, Nx)\n",
    "for i in range(N_lambda):\n",
    "    bT[i, 1+2*i] = 1 \n",
    "    bT[i, 2+i*2] = -1\n",
    "b = bT.T\n",
    "display(b.T)\n",
    "print('---------')\n",
    "print('Constraints')\n",
    "display(b.T*X)"
   ]
  }
 ],
 "metadata": {
  "kernelspec": {
   "display_name": "Python 3",
   "language": "python",
   "name": "python3"
  },
  "language_info": {
   "codemirror_mode": {
    "name": "ipython",
    "version": 3
   },
   "file_extension": ".py",
   "mimetype": "text/x-python",
   "name": "python",
   "nbconvert_exporter": "python",
   "pygments_lexer": "ipython3",
   "version": "3.8.3"
  }
 },
 "nbformat": 4,
 "nbformat_minor": 4
}
